{
 "cells": [
  {
   "cell_type": "markdown",
   "id": "81e73828",
   "metadata": {},
   "source": [
    "### Notebook, to qualitatively test code, vizualisations etc."
   ]
  },
  {
   "cell_type": "code",
   "execution_count": null,
   "id": "2cd1460f",
   "metadata": {},
   "outputs": [],
   "source": []
  }
 ],
 "metadata": {
  "language_info": {
   "name": "python"
  }
 },
 "nbformat": 4,
 "nbformat_minor": 5
}
